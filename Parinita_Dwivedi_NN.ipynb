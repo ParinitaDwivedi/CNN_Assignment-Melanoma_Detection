{
 "cells": [
  {
   "cell_type": "markdown",
   "id": "bd9eb21f",
   "metadata": {},
   "source": [
    "Problem statement: To build a CNN based model which can accurately detect melanoma. Melanoma is a type of cancer that can be deadly if not detected early. It accounts for 75% of skin cancer deaths. A solution which can evaluate images and alert the dermatologists about the presence of melanoma has the potential to reduce a lot of manual effort needed in diagnosis."
   ]
  },
  {
   "cell_type": "markdown",
   "id": "8b2c84f2",
   "metadata": {},
   "source": [
    "### Importing Skin Cancer Data\n",
    "#### To do: Take necessary actions to read the data"
   ]
  },
  {
   "cell_type": "markdown",
   "id": "5adb65a7",
   "metadata": {},
   "source": [
    "### Importing all the important libraries"
   ]
  },
  {
   "cell_type": "raw",
   "id": "cf0a89d9",
   "metadata": {},
   "source": [
    "import os.path\n",
    "import pkgutil\n",
    "import shutil\n",
    "import sys\n",
    "import struct\n",
    "import tempfile"
   ]
  },
  {
   "cell_type": "code",
   "execution_count": null,
   "id": "f69ccee5",
   "metadata": {},
   "outputs": [],
   "source": []
  },
  {
   "cell_type": "raw",
   "id": "bf063b43",
   "metadata": {},
   "source": []
  }
 ],
 "metadata": {
  "kernelspec": {
   "display_name": "Python 3 (ipykernel)",
   "language": "python",
   "name": "python3"
  },
  "language_info": {
   "codemirror_mode": {
    "name": "ipython",
    "version": 3
   },
   "file_extension": ".py",
   "mimetype": "text/x-python",
   "name": "python",
   "nbconvert_exporter": "python",
   "pygments_lexer": "ipython3",
   "version": "3.9.12"
  }
 },
 "nbformat": 4,
 "nbformat_minor": 5
}
